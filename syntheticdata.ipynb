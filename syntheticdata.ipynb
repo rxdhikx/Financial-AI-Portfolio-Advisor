{
 "cells": [
  {
   "cell_type": "code",
   "execution_count": 2,
   "id": "f2439b1a-d036-4a53-8900-8f818b031da9",
   "metadata": {},
   "outputs": [],
   "source": [
    "import pandas as pd\n",
    "import numpy as np\n",
    "from datetime import datetime, timedelta\n",
    "\n",
    "\n"
   ]
  },
  {
   "cell_type": "code",
   "execution_count": 3,
   "id": "b2240920-4391-4044-8244-8701a7c7e89c",
   "metadata": {},
   "outputs": [],
   "source": [
    "# Generate 100K synthetic portfolios with market data\n",
    "dates = [datetime(2020,1,1) + timedelta(days=i) for i in range(1000)]\n",
    "data = {\n",
    "    \"date\": np.random.choice(dates, 100000),\n",
    "    \"portfolio_value\": np.random.uniform(50000, 5000000, 100000),\n",
    "    \"aapl_alloc\": np.random.uniform(0.1, 0.7, 100000),\n",
    "    \"voo_alloc\": np.random.uniform(0.1, 0.6, 100000),\n",
    "    \"cash_alloc\": 1 - (np.random.uniform(0.1, 0.6, 100000) + np.random.uniform(0.1, 0.6, 100000)),\n",
    "    \"market_volatility\": np.random.uniform(0.1, 0.5, 100000),\n",
    "    \"risk_tolerance\": np.random.randint(1, 10, 100000),\n",
    "    \"optimal_aapl\": np.random.uniform(0.2, 0.5, 100000),  # Target for ML model\n",
    "    \"optimal_voo\": np.random.uniform(0.2, 0.5, 100000)\n",
    "}\n",
    "\n",
    "df = pd.DataFrame(data)\n",
    "df.to_csv(\"synthetic_portfolios.csv\", index=False)\n"
   ]
  },
  {
   "cell_type": "code",
   "execution_count": null,
   "id": "3523998c-2924-4cd9-83ba-a2006a03bc69",
   "metadata": {},
   "outputs": [],
   "source": []
  }
 ],
 "metadata": {
  "kernelspec": {
   "display_name": "conda_python3",
   "language": "python",
   "name": "conda_python3"
  },
  "language_info": {
   "codemirror_mode": {
    "name": "ipython",
    "version": 3
   },
   "file_extension": ".py",
   "mimetype": "text/x-python",
   "name": "python",
   "nbconvert_exporter": "python",
   "pygments_lexer": "ipython3",
   "version": "3.10.16"
  }
 },
 "nbformat": 4,
 "nbformat_minor": 5
}
